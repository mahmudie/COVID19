{
 "cells": [
  {
   "cell_type": "code",
   "execution_count": 1,
   "metadata": {
    "colab": {},
    "colab_type": "code",
    "id": "F8VTq3X0JwZ6"
   },
   "outputs": [],
   "source": [
    "import pandas as pd"
   ]
  },
  {
   "cell_type": "markdown",
   "metadata": {},
   "source": [
    "### Getting Data From https://raw.githubusercontent.com/CSSEGISandData/COVID-19"
   ]
  },
  {
   "cell_type": "code",
   "execution_count": 2,
   "metadata": {
    "colab": {},
    "colab_type": "code",
    "id": "D75gNEwjKUNe"
   },
   "outputs": [],
   "source": [
    "original_confirmed=pd.read_csv('https://raw.githubusercontent.com/CSSEGISandData/COVID-19/master/csse_covid_19_data/csse_covid_19_time_series/time_series_covid19_confirmed_global.csv',error_bad_lines=False)\n",
    "original_deaths = pd.read_csv('https://raw.githubusercontent.com/CSSEGISandData/COVID-19/master/csse_covid_19_data/csse_covid_19_time_series/time_series_covid19_deaths_global.csv',error_bad_lines=False)\n",
    "original_recovered = pd.read_csv('https://raw.githubusercontent.com/CSSEGISandData/COVID-19/master/csse_covid_19_data/csse_covid_19_time_series/time_series_covid19_recovered_global.csv',error_bad_lines=False)"
   ]
  },
  {
   "cell_type": "markdown",
   "metadata": {
    "colab_type": "text",
    "id": "mL4lkcAJMYzF"
   },
   "source": [
    "### Creating and Merging DataFrame\n"
   ]
  },
  {
   "cell_type": "code",
   "execution_count": 3,
   "metadata": {
    "colab": {
     "base_uri": "https://localhost:8080/",
     "height": 68
    },
    "colab_type": "code",
    "id": "7aEhR9laMqiM",
    "outputId": "83565cf6-5dc2-444f-db47-227dde54aa74"
   },
   "outputs": [
    {
     "name": "stdout",
     "output_type": "stream",
     "text": [
      "(26136, 6)\n"
     ]
    }
   ],
   "source": [
    "# Get dates in the column\n",
    "dates = original_confirmed.columns[4:]\n",
    "\n",
    "original_confirmed_tran = original_confirmed.melt(id_vars=['Province/State', 'Country/Region', 'Lat', 'Long'], \n",
    "                            value_vars=dates, var_name='Date', value_name='Confirmed')\n",
    "\n",
    "original_deaths_trans = original_deaths.melt(id_vars=['Province/State', 'Country/Region', 'Lat', 'Long'], \n",
    "                            value_vars=dates, var_name='Date', value_name='Deaths')\n",
    "\n",
    "original_recovered_trans = original_recovered.melt(id_vars=['Province/State', 'Country/Region', 'Lat', 'Long'], \n",
    "                            value_vars=dates, var_name='Date', value_name='Recovered')\n",
    "\n",
    "# total final records\n",
    "print(original_confirmed_tran.shape)"
   ]
  },
  {
   "cell_type": "code",
   "execution_count": 4,
   "metadata": {
    "colab": {
     "base_uri": "https://localhost:8080/",
     "height": 204
    },
    "colab_type": "code",
    "id": "FNDzGdEPNVdw",
    "outputId": "e098e952-c030-4a3b-83fc-08ecbc7ca31e"
   },
   "outputs": [
    {
     "data": {
      "text/html": [
       "<div>\n",
       "<style scoped>\n",
       "    .dataframe tbody tr th:only-of-type {\n",
       "        vertical-align: middle;\n",
       "    }\n",
       "\n",
       "    .dataframe tbody tr th {\n",
       "        vertical-align: top;\n",
       "    }\n",
       "\n",
       "    .dataframe thead th {\n",
       "        text-align: right;\n",
       "    }\n",
       "</style>\n",
       "<table border=\"1\" class=\"dataframe\">\n",
       "  <thead>\n",
       "    <tr style=\"text-align: right;\">\n",
       "      <th></th>\n",
       "      <th>Province/State</th>\n",
       "      <th>Country/Region</th>\n",
       "      <th>Lat</th>\n",
       "      <th>Long</th>\n",
       "      <th>Date</th>\n",
       "      <th>Confirmed</th>\n",
       "      <th>Deaths</th>\n",
       "      <th>Recovered</th>\n",
       "    </tr>\n",
       "  </thead>\n",
       "  <tbody>\n",
       "    <tr>\n",
       "      <th>0</th>\n",
       "      <td>NaN</td>\n",
       "      <td>Afghanistan</td>\n",
       "      <td>33.0000</td>\n",
       "      <td>65.0000</td>\n",
       "      <td>1/22/20</td>\n",
       "      <td>0</td>\n",
       "      <td>0</td>\n",
       "      <td>0.0</td>\n",
       "    </tr>\n",
       "    <tr>\n",
       "      <th>1</th>\n",
       "      <td>NaN</td>\n",
       "      <td>Albania</td>\n",
       "      <td>41.1533</td>\n",
       "      <td>20.1683</td>\n",
       "      <td>1/22/20</td>\n",
       "      <td>0</td>\n",
       "      <td>0</td>\n",
       "      <td>0.0</td>\n",
       "    </tr>\n",
       "    <tr>\n",
       "      <th>2</th>\n",
       "      <td>NaN</td>\n",
       "      <td>Algeria</td>\n",
       "      <td>28.0339</td>\n",
       "      <td>1.6596</td>\n",
       "      <td>1/22/20</td>\n",
       "      <td>0</td>\n",
       "      <td>0</td>\n",
       "      <td>0.0</td>\n",
       "    </tr>\n",
       "    <tr>\n",
       "      <th>3</th>\n",
       "      <td>NaN</td>\n",
       "      <td>Andorra</td>\n",
       "      <td>42.5063</td>\n",
       "      <td>1.5218</td>\n",
       "      <td>1/22/20</td>\n",
       "      <td>0</td>\n",
       "      <td>0</td>\n",
       "      <td>0.0</td>\n",
       "    </tr>\n",
       "    <tr>\n",
       "      <th>4</th>\n",
       "      <td>NaN</td>\n",
       "      <td>Angola</td>\n",
       "      <td>-11.2027</td>\n",
       "      <td>17.8739</td>\n",
       "      <td>1/22/20</td>\n",
       "      <td>0</td>\n",
       "      <td>0</td>\n",
       "      <td>0.0</td>\n",
       "    </tr>\n",
       "  </tbody>\n",
       "</table>\n",
       "</div>"
      ],
      "text/plain": [
       "  Province/State Country/Region      Lat     Long     Date  Confirmed  Deaths  \\\n",
       "0            NaN    Afghanistan  33.0000  65.0000  1/22/20          0       0   \n",
       "1            NaN        Albania  41.1533  20.1683  1/22/20          0       0   \n",
       "2            NaN        Algeria  28.0339   1.6596  1/22/20          0       0   \n",
       "3            NaN        Andorra  42.5063   1.5218  1/22/20          0       0   \n",
       "4            NaN         Angola -11.2027  17.8739  1/22/20          0       0   \n",
       "\n",
       "   Recovered  \n",
       "0        0.0  \n",
       "1        0.0  \n",
       "2        0.0  \n",
       "3        0.0  \n",
       "4        0.0  "
      ]
     },
     "execution_count": 4,
     "metadata": {},
     "output_type": "execute_result"
    }
   ],
   "source": [
    "df_final = pd.merge(left=original_confirmed_tran, right=original_deaths_trans, how='left',\n",
    "                      on=['Province/State', 'Country/Region', 'Date', 'Lat', 'Long'])\n",
    "df_final = pd.merge(left=df_final, right=original_recovered_trans, how='left',\n",
    "                      on=['Province/State', 'Country/Region', 'Date', 'Lat', 'Long'])\n",
    "\n",
    "df_final.head()"
   ]
  },
  {
   "cell_type": "code",
   "execution_count": 5,
   "metadata": {},
   "outputs": [],
   "source": [
    "# Delete Province/State as not analysed at this level\n",
    "df_final.drop('Province/State',axis=1,inplace=True)"
   ]
  },
  {
   "cell_type": "code",
   "execution_count": 6,
   "metadata": {
    "colab": {
     "base_uri": "https://localhost:8080/",
     "height": 170
    },
    "colab_type": "code",
    "id": "_ZFEuBEiOFO5",
    "outputId": "a9494452-75b0-4dce-a3f9-7c834bb32af5"
   },
   "outputs": [
    {
     "data": {
      "text/plain": [
       "Country/Region       0\n",
       "Lat                  0\n",
       "Long                 0\n",
       "Date                 0\n",
       "Confirmed            0\n",
       "Deaths               0\n",
       "Recovered         2772\n",
       "dtype: int64"
      ]
     },
     "execution_count": 6,
     "metadata": {},
     "output_type": "execute_result"
    }
   ],
   "source": [
    "df_final.isnull().sum()"
   ]
  },
  {
   "cell_type": "code",
   "execution_count": 7,
   "metadata": {
    "colab": {
     "base_uri": "https://localhost:8080/",
     "height": 170
    },
    "colab_type": "code",
    "id": "KSDfvrYaOzFt",
    "outputId": "739fe1d1-a033-40db-ba11-c181b21affde"
   },
   "outputs": [
    {
     "data": {
      "text/plain": [
       "Country/Region    0\n",
       "Lat               0\n",
       "Long              0\n",
       "Date              0\n",
       "Confirmed         0\n",
       "Deaths            0\n",
       "Recovered         0\n",
       "dtype: int64"
      ]
     },
     "execution_count": 7,
     "metadata": {},
     "output_type": "execute_result"
    }
   ],
   "source": [
    "# Fill null with 0 and change Recovered to int\n",
    "df_final['Recovered'] = df_final['Recovered'].fillna(0)\n",
    "df_final['Recovered'] = df_final['Recovered'].astype('int')\n",
    "df_final.isna().sum()"
   ]
  },
  {
   "cell_type": "code",
   "execution_count": 8,
   "metadata": {
    "colab": {
     "base_uri": "https://localhost:8080/",
     "height": 272
    },
    "colab_type": "code",
    "id": "q-u1dutEPCHN",
    "outputId": "212ba2d2-635b-4e60-974e-0a7925176a46"
   },
   "outputs": [
    {
     "name": "stdout",
     "output_type": "stream",
     "text": [
      "<class 'pandas.core.frame.DataFrame'>\n",
      "Int64Index: 26136 entries, 0 to 26135\n",
      "Data columns (total 7 columns):\n",
      "Country/Region    26136 non-null object\n",
      "Lat               26136 non-null float64\n",
      "Long              26136 non-null float64\n",
      "Date              26136 non-null object\n",
      "Confirmed         26136 non-null int64\n",
      "Deaths            26136 non-null int64\n",
      "Recovered         26136 non-null int32\n",
      "dtypes: float64(2), int32(1), int64(2), object(2)\n",
      "memory usage: 1.5+ MB\n"
     ]
    }
   ],
   "source": [
    "# Check data types\n",
    "df_final.info()"
   ]
  },
  {
   "cell_type": "code",
   "execution_count": 9,
   "metadata": {
    "colab": {},
    "colab_type": "code",
    "id": "npoZBGXBPKGL"
   },
   "outputs": [],
   "source": [
    "# Change date to datetime\n",
    "df_final.Date=pd.to_datetime(df_final['Date'])"
   ]
  },
  {
   "cell_type": "code",
   "execution_count": 10,
   "metadata": {
    "colab": {
     "base_uri": "https://localhost:8080/",
     "height": 272
    },
    "colab_type": "code",
    "id": "Xr94pQOXPlKK",
    "outputId": "3735829d-872e-4f46-98d5-e069301d36c0",
    "scrolled": true
   },
   "outputs": [
    {
     "name": "stdout",
     "output_type": "stream",
     "text": [
      "<class 'pandas.core.frame.DataFrame'>\n",
      "Int64Index: 26136 entries, 0 to 26135\n",
      "Data columns (total 7 columns):\n",
      "Country/Region    26136 non-null object\n",
      "Lat               26136 non-null float64\n",
      "Long              26136 non-null float64\n",
      "Date              26136 non-null datetime64[ns]\n",
      "Confirmed         26136 non-null int64\n",
      "Deaths            26136 non-null int64\n",
      "Recovered         26136 non-null int32\n",
      "dtypes: datetime64[ns](1), float64(2), int32(1), int64(2), object(1)\n",
      "memory usage: 1.5+ MB\n"
     ]
    }
   ],
   "source": [
    "df_final.info()"
   ]
  },
  {
   "cell_type": "markdown",
   "metadata": {
    "colab_type": "text",
    "id": "mgXyjzWSPw_R"
   },
   "source": [
    "### Save data on github"
   ]
  },
  {
   "cell_type": "code",
   "execution_count": 11,
   "metadata": {
    "colab": {
     "base_uri": "https://localhost:8080/",
     "height": 632
    },
    "colab_type": "code",
    "id": "bEoGovEJR7P5",
    "outputId": "47552fcd-8515-4313-cb71-7c2dc88d4c32",
    "scrolled": true
   },
   "outputs": [],
   "source": [
    "# save file\n",
    "df_final.to_csv('covid_19_complete.csv',index=False)"
   ]
  }
 ],
 "metadata": {
  "colab": {
   "collapsed_sections": [],
   "name": "Covid 19 data collection.ipynb",
   "provenance": []
  },
  "kernelspec": {
   "display_name": "Python 3",
   "language": "python",
   "name": "python3"
  },
  "language_info": {
   "codemirror_mode": {
    "name": "ipython",
    "version": 3
   },
   "file_extension": ".py",
   "mimetype": "text/x-python",
   "name": "python",
   "nbconvert_exporter": "python",
   "pygments_lexer": "ipython3",
   "version": "3.7.3"
  }
 },
 "nbformat": 4,
 "nbformat_minor": 1
}
